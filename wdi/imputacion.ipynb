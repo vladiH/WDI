{
 "cells": [
  {
   "cell_type": "code",
   "execution_count": 1,
   "metadata": {},
   "outputs": [
    {
     "name": "stderr",
     "output_type": "stream",
     "text": [
      "Loading required package: lattice\n",
      "\n",
      "Attaching package: 'mice'\n",
      "\n",
      "The following objects are masked from 'package:base':\n",
      "\n",
      "    cbind, rbind\n",
      "\n",
      "\n",
      "Attaching package: 'dplyr'\n",
      "\n",
      "The following objects are masked from 'package:stats':\n",
      "\n",
      "    filter, lag\n",
      "\n",
      "The following objects are masked from 'package:base':\n",
      "\n",
      "    intersect, setdiff, setequal, union\n",
      "\n",
      "Loading required package: colorspace\n",
      "Loading required package: grid\n",
      "Loading required package: data.table\n",
      "\n",
      "Attaching package: 'data.table'\n",
      "\n",
      "The following objects are masked from 'package:dplyr':\n",
      "\n",
      "    between, first, last\n",
      "\n",
      "VIM is ready to use. \n",
      " Since version 4.0.0 the GUI is in its own package VIMGUI.\n",
      "\n",
      "          Please use the package to use the new (and old) GUI.\n",
      "\n",
      "Suggestions and bug-reports can be submitted at: https://github.com/alexkowa/VIM/issues\n",
      "\n",
      "Attaching package: 'VIM'\n",
      "\n",
      "The following object is masked from 'package:datasets':\n",
      "\n",
      "    sleep\n",
      "\n"
     ]
    }
   ],
   "source": [
    "library(\"mice\")\n",
    "library(\"dplyr\")\n",
    "library(\"ggplot2\")\n",
    "library(\"VIM\")\n",
    "library('xlsx')"
   ]
  },
  {
   "cell_type": "markdown",
   "metadata": {},
   "source": [
    "# Patron de datos faltantes"
   ]
  },
  {
   "cell_type": "code",
   "execution_count": 2,
   "metadata": {},
   "outputs": [],
   "source": [
    "#data = read.xlsx('datos_reales/indicatorsAfterFilters_sin_rep.xlsx',\"SUR\")\n",
    "data = read.xlsx('datos_reales/CHL.xlsx',\"influyentes y sin correlacion\")\n",
    "data[data==\"\"]=NA\n",
    "rownames(data) <- data$year\n",
    "data = data[-(1)]"
   ]
  },
  {
   "cell_type": "code",
   "execution_count": 3,
   "metadata": {},
   "outputs": [
    {
     "data": {
      "text/html": [
       "<table>\n",
       "<thead><tr><th></th><th scope=col>DC.DAC.FRAL.CD</th><th scope=col>DC.DAC.CECL.CD</th><th scope=col>DC.DAC.CHEL.CD</th><th scope=col>NV.IND.MANF.KD.ZG</th><th scope=col>NE.GDI.TOTL.KD.ZG</th><th scope=col>DC.DAC.USAL.CD</th><th scope=col>NV.SRV.TOTL.KD.ZG</th><th scope=col>NY.TRF.NCTR.CN</th><th scope=col>NY.ADJ.NNTY.PC.KD.ZG</th><th scope=col>NY.GNP.PCAP.KD.ZG</th><th scope=col>...</th><th scope=col>GC.TAX.TOTL.GD.ZS</th><th scope=col>GC.XPN.COMP.ZS</th><th scope=col>GC.XPN.GSRV.ZS</th><th scope=col>IQ.SCI.PRDC</th><th scope=col>MS.MIL.MPRT.KD</th><th scope=col>MS.MIL.TOTL.P1</th><th scope=col>VC.IHR.PSRC.FE.P5</th><th scope=col>SL.EMP.1524.SP.MA.NE.ZS</th><th scope=col>SL.IND.EMPL.ZS</th><th scope=col>SL.TLF.ACTI.1524.NE.ZS</th></tr></thead>\n",
       "<tbody>\n",
       "\t<tr><th scope=row>2002</th><td>11750000    </td><td>7110000     </td><td>1050000     </td><td>2.282044762 </td><td>0.827541324 </td><td>NA          </td><td> 3.6716988  </td><td>4.01519e+11 </td><td> 1.4259737  </td><td> 1.4418051  </td><td>...         </td><td>16.20170    </td><td>20.66964    </td><td> 8.557085   </td><td>NA          </td><td>7.4e+07     </td><td>117300      </td><td>NA          </td><td>35.6970     </td><td>23.857      </td><td>36.31100082 </td></tr>\n",
       "\t<tr><th scope=row>2003</th><td>12880000    </td><td>10490000    </td><td>1210000     </td><td>1.119924268 </td><td>0.550035936 </td><td>-3020000    </td><td> 5.1055706  </td><td>4.35704e+11 </td><td> 1.2352153  </td><td> 0.8391240  </td><td>...         </td><td>15.94896    </td><td>20.82987    </td><td> 8.138862   </td><td>NA          </td><td>1.87e+08    </td><td>114100      </td><td>NA          </td><td>35.0430     </td><td>23.395      </td><td>36.08399963 </td></tr>\n",
       "\t<tr><th scope=row>2004</th><td>NA          </td><td>16680000    </td><td>1690000     </td><td>6.600785693 </td><td>8.265673635 </td><td>-1740000    </td><td> 7.3900597  </td><td>6.81718e+11 </td><td> 5.2914433  </td><td> 3.5166390  </td><td>...         </td><td>16.40223    </td><td>20.93046    </td><td> 9.076127   </td><td>93.33333    </td><td>7e+07       </td><td>116000      </td><td>NA          </td><td>34.7640     </td><td>23.602      </td><td>36.35100174 </td></tr>\n",
       "\t<tr><th scope=row>2005</th><td>14400000    </td><td>23280000    </td><td>1110000     </td><td>3.257283633 </td><td>27.17966478 </td><td>-120000     </td><td> 7.0941922  </td><td>1.01536e+12 </td><td> 7.2944249  </td><td> 3.8025298  </td><td>...         </td><td>18.02512    </td><td>20.96063    </td><td>10.130692   </td><td>93.33333    </td><td>4.49e+08    </td><td>116000      </td><td>1.017180298 </td><td>34.4990     </td><td>22.953      </td><td>36.20000076 </td></tr>\n",
       "\t<tr><th scope=row>2006</th><td>9870000     </td><td>12300000    </td><td>1170000     </td><td>5.141347382 </td><td>14.41657585 </td><td>-310000     </td><td> 7.3891882  </td><td>1.8335e+12  </td><td> 1.9976394  </td><td> 0.1891294  </td><td>...         </td><td>19.49191    </td><td>20.86325    </td><td>10.567692   </td><td>93.33333    </td><td>NA          </td><td>103000      </td><td>1.103524414 </td><td>35.6460     </td><td>23.291      </td><td>36.61800003 </td></tr>\n",
       "\t<tr><th scope=row>2007</th><td>10180000    </td><td>12510000    </td><td> 790000     </td><td>2.602416839 </td><td>4.35047537  </td><td>-1060000    </td><td> 7.7456422  </td><td>1.66218e+12 </td><td> 6.4468123  </td><td> 4.9345295  </td><td>...         </td><td>20.25693    </td><td>21.00051    </td><td>11.252845   </td><td>93.33333    </td><td>6.62e+08    </td><td>103000      </td><td>1.332160712 </td><td>35.9700     </td><td>23.381      </td><td>37.14500046 </td></tr>\n",
       "\t<tr><th scope=row>2008</th><td>9100000     </td><td>6460000     </td><td>1000000     </td><td>1.264355069 </td><td>24.93514943 </td><td>950000      </td><td> 5.2764984  </td><td>1.52344e+12 </td><td> 0.8854268  </td><td> 7.2892237  </td><td>...         </td><td>18.71186    </td><td>20.34862    </td><td> 9.758001   </td><td>96.66667    </td><td>3.97e+08    </td><td>103000      </td><td>1.223644713 </td><td>37.4350     </td><td>23.540      </td><td>NA          </td></tr>\n",
       "\t<tr><th scope=row>2009</th><td>9600000     </td><td>10800000    </td><td>1330000     </td><td>NA          </td><td>NA          </td><td>1840000     </td><td>-0.3289782  </td><td>9.1113e+11  </td><td> 3.0544294  </td><td>-1.6434954  </td><td>...         </td><td>14.52310    </td><td>20.33905    </td><td> 9.942340   </td><td>96.66667    </td><td>3.35e+08    </td><td>103771      </td><td>1.168668793 </td><td>34.1500     </td><td>23.474      </td><td>38.42900085 </td></tr>\n",
       "\t<tr><th scope=row>2010</th><td>10130000    </td><td>16150000    </td><td>1890000     </td><td>3.268086553 </td><td>34.20739863 </td><td>NA          </td><td> 6.5602516  </td><td>NA          </td><td>10.1029386  </td><td> 4.0632161  </td><td>...         </td><td>17.35651    </td><td>20.38086    </td><td>10.408129   </td><td>93.33333    </td><td>4.75e+08    </td><td>103771      </td><td>1.118484956 </td><td>36.5566     </td><td>22.957      </td><td>37.69630051 </td></tr>\n",
       "\t<tr><th scope=row>2011</th><td>9680000     </td><td>NA          </td><td> 950000     </td><td>NA          </td><td>17.34492116 </td><td>3700000     </td><td> 7.8876684  </td><td>1.42505e+12 </td><td> 6.3198663  </td><td> 6.3057323  </td><td>...         </td><td>18.85899    </td><td>20.36051    </td><td>10.807048   </td><td>93.33333    </td><td>3.26e+08    </td><td>103750      </td><td>1.327502021 </td><td>37.5504     </td><td>23.375      </td><td>38.59550095 </td></tr>\n",
       "\t<tr><th scope=row>2012</th><td>11500000    </td><td>1940000     </td><td>1350000     </td><td>3.330944501 </td><td>10.82677847 </td><td>1670000     </td><td> 5.9298291  </td><td>1.05797e+12 </td><td> 5.4278364  </td><td> 5.9979889  </td><td>...         </td><td>18.99487    </td><td>20.54347    </td><td>10.051501   </td><td>93.33333    </td><td>6.2e+07     </td><td>106100      </td><td>NA          </td><td>36.0482     </td><td>23.830      </td><td>37.32410049 </td></tr>\n",
       "\t<tr><th scope=row>2013</th><td>8070000     </td><td>5910000     </td><td> 710000     </td><td>2.032190539 </td><td>-0.116455698</td><td>1510000     </td><td> 3.9306454  </td><td>1.16366e+12 </td><td> 3.3440236  </td><td> 3.6218825  </td><td>...         </td><td>17.38697    </td><td>21.00083    </td><td> 9.814406   </td><td>96.66666667 </td><td>5.4e+07     </td><td>106100      </td><td>1.224882675 </td><td>35.3448     </td><td>23.878      </td><td>36.51589966 </td></tr>\n",
       "\t<tr><th scope=row>2014</th><td>10400000    </td><td>NA          </td><td> 520000     </td><td>-0.709774342</td><td>-10.19868192</td><td>2780000     </td><td> 2.6180100  </td><td>1.27478e+12 </td><td> 1.6157042  </td><td> 1.8265024  </td><td>...         </td><td>16.96739    </td><td>20.96062    </td><td>10.332078   </td><td>96.66666667 </td><td>1.41e+08    </td><td>109450      </td><td>1.383235678 </td><td>34.9984     </td><td>23.487      </td><td>36.23899841 </td></tr>\n",
       "\t<tr><th scope=row>2015</th><td>6670000     </td><td>6520000     </td><td> 430000     </td><td>0.334289777 </td><td>2.383258734 </td><td>1540000     </td><td> 2.8042565  </td><td>1.2957e+12  </td><td> 2.2708835  </td><td> 2.0463279  </td><td>...         </td><td>17.43801    </td><td>20.86789    </td><td> 9.553462   </td><td>96.6667     </td><td>1.44e+08    </td><td>109450      </td><td>0.747253203 </td><td>35.2015     </td><td>23.284      </td><td>35.9844017  </td></tr>\n",
       "\t<tr><th scope=row>2016</th><td>5950000     </td><td>5460000     </td><td> 250000     </td><td>-2.359767475</td><td>-3.897984093</td><td>1420000     </td><td> 2.2682620  </td><td>1.02078e+12 </td><td> 1.2321600  </td><td> 0.5168645  </td><td>...         </td><td>17.41744    </td><td>21.09209    </td><td> 9.323822   </td><td>96.6667     </td><td>4e+07       </td><td>121900      </td><td>0.995812495 </td><td>33.5866     </td><td>23.011      </td><td>34.73040009 </td></tr>\n",
       "</tbody>\n",
       "</table>\n"
      ],
      "text/latex": [
       "\\begin{tabular}{r|lllllllllllllllllllllllllllllllllllllllllllllllllllllllllllllllllllllllllllllllllllllllllllllllllllllllllllllllllllllllllllllllllllllllllllllllllllllllllllllllllllllllllllllllllllllllllllllllllllllllllllllllllllllllllllllllllllllllllllllllllllllllllllllllllllllllllllllllllll}\n",
       "  & DC.DAC.FRAL.CD & DC.DAC.CECL.CD & DC.DAC.CHEL.CD & NV.IND.MANF.KD.ZG & NE.GDI.TOTL.KD.ZG & DC.DAC.USAL.CD & NV.SRV.TOTL.KD.ZG & NY.TRF.NCTR.CN & NY.ADJ.NNTY.PC.KD.ZG & NY.GNP.PCAP.KD.ZG & ... & GC.TAX.TOTL.GD.ZS & GC.XPN.COMP.ZS & GC.XPN.GSRV.ZS & IQ.SCI.PRDC & MS.MIL.MPRT.KD & MS.MIL.TOTL.P1 & VC.IHR.PSRC.FE.P5 & SL.EMP.1524.SP.MA.NE.ZS & SL.IND.EMPL.ZS & SL.TLF.ACTI.1524.NE.ZS\\\\\n",
       "\\hline\n",
       "\t2002 & 11750000     & 7110000      & 1050000      & 2.282044762  & 0.827541324  & NA           &  3.6716988   & 4.01519e+11  &  1.4259737   &  1.4418051   & ...          & 16.20170     & 20.66964     &  8.557085    & NA           & 7.4e+07      & 117300       & NA           & 35.6970      & 23.857       & 36.31100082 \\\\\n",
       "\t2003 & 12880000     & 10490000     & 1210000      & 1.119924268  & 0.550035936  & -3020000     &  5.1055706   & 4.35704e+11  &  1.2352153   &  0.8391240   & ...          & 15.94896     & 20.82987     &  8.138862    & NA           & 1.87e+08     & 114100       & NA           & 35.0430      & 23.395       & 36.08399963 \\\\\n",
       "\t2004 & NA           & 16680000     & 1690000      & 6.600785693  & 8.265673635  & -1740000     &  7.3900597   & 6.81718e+11  &  5.2914433   &  3.5166390   & ...          & 16.40223     & 20.93046     &  9.076127    & 93.33333     & 7e+07        & 116000       & NA           & 34.7640      & 23.602       & 36.35100174 \\\\\n",
       "\t2005 & 14400000     & 23280000     & 1110000      & 3.257283633  & 27.17966478  & -120000      &  7.0941922   & 1.01536e+12  &  7.2944249   &  3.8025298   & ...          & 18.02512     & 20.96063     & 10.130692    & 93.33333     & 4.49e+08     & 116000       & 1.017180298  & 34.4990      & 22.953       & 36.20000076 \\\\\n",
       "\t2006 & 9870000      & 12300000     & 1170000      & 5.141347382  & 14.41657585  & -310000      &  7.3891882   & 1.8335e+12   &  1.9976394   &  0.1891294   & ...          & 19.49191     & 20.86325     & 10.567692    & 93.33333     & NA           & 103000       & 1.103524414  & 35.6460      & 23.291       & 36.61800003 \\\\\n",
       "\t2007 & 10180000     & 12510000     &  790000      & 2.602416839  & 4.35047537   & -1060000     &  7.7456422   & 1.66218e+12  &  6.4468123   &  4.9345295   & ...          & 20.25693     & 21.00051     & 11.252845    & 93.33333     & 6.62e+08     & 103000       & 1.332160712  & 35.9700      & 23.381       & 37.14500046 \\\\\n",
       "\t2008 & 9100000      & 6460000      & 1000000      & 1.264355069  & 24.93514943  & 950000       &  5.2764984   & 1.52344e+12  &  0.8854268   &  7.2892237   & ...          & 18.71186     & 20.34862     &  9.758001    & 96.66667     & 3.97e+08     & 103000       & 1.223644713  & 37.4350      & 23.540       & NA          \\\\\n",
       "\t2009 & 9600000      & 10800000     & 1330000      & NA           & NA           & 1840000      & -0.3289782   & 9.1113e+11   &  3.0544294   & -1.6434954   & ...          & 14.52310     & 20.33905     &  9.942340    & 96.66667     & 3.35e+08     & 103771       & 1.168668793  & 34.1500      & 23.474       & 38.42900085 \\\\\n",
       "\t2010 & 10130000     & 16150000     & 1890000      & 3.268086553  & 34.20739863  & NA           &  6.5602516   & NA           & 10.1029386   &  4.0632161   & ...          & 17.35651     & 20.38086     & 10.408129    & 93.33333     & 4.75e+08     & 103771       & 1.118484956  & 36.5566      & 22.957       & 37.69630051 \\\\\n",
       "\t2011 & 9680000      & NA           &  950000      & NA           & 17.34492116  & 3700000      &  7.8876684   & 1.42505e+12  &  6.3198663   &  6.3057323   & ...          & 18.85899     & 20.36051     & 10.807048    & 93.33333     & 3.26e+08     & 103750       & 1.327502021  & 37.5504      & 23.375       & 38.59550095 \\\\\n",
       "\t2012 & 11500000     & 1940000      & 1350000      & 3.330944501  & 10.82677847  & 1670000      &  5.9298291   & 1.05797e+12  &  5.4278364   &  5.9979889   & ...          & 18.99487     & 20.54347     & 10.051501    & 93.33333     & 6.2e+07      & 106100       & NA           & 36.0482      & 23.830       & 37.32410049 \\\\\n",
       "\t2013 & 8070000      & 5910000      &  710000      & 2.032190539  & -0.116455698 & 1510000      &  3.9306454   & 1.16366e+12  &  3.3440236   &  3.6218825   & ...          & 17.38697     & 21.00083     &  9.814406    & 96.66666667  & 5.4e+07      & 106100       & 1.224882675  & 35.3448      & 23.878       & 36.51589966 \\\\\n",
       "\t2014 & 10400000     & NA           &  520000      & -0.709774342 & -10.19868192 & 2780000      &  2.6180100   & 1.27478e+12  &  1.6157042   &  1.8265024   & ...          & 16.96739     & 20.96062     & 10.332078    & 96.66666667  & 1.41e+08     & 109450       & 1.383235678  & 34.9984      & 23.487       & 36.23899841 \\\\\n",
       "\t2015 & 6670000      & 6520000      &  430000      & 0.334289777  & 2.383258734  & 1540000      &  2.8042565   & 1.2957e+12   &  2.2708835   &  2.0463279   & ...          & 17.43801     & 20.86789     &  9.553462    & 96.6667      & 1.44e+08     & 109450       & 0.747253203  & 35.2015      & 23.284       & 35.9844017  \\\\\n",
       "\t2016 & 5950000      & 5460000      &  250000      & -2.359767475 & -3.897984093 & 1420000      &  2.2682620   & 1.02078e+12  &  1.2321600   &  0.5168645   & ...          & 17.41744     & 21.09209     &  9.323822    & 96.6667      & 4e+07        & 121900       & 0.995812495  & 33.5866      & 23.011       & 34.73040009 \\\\\n",
       "\\end{tabular}\n"
      ],
      "text/markdown": [
       "\n",
       "| <!--/--> | DC.DAC.FRAL.CD | DC.DAC.CECL.CD | DC.DAC.CHEL.CD | NV.IND.MANF.KD.ZG | NE.GDI.TOTL.KD.ZG | DC.DAC.USAL.CD | NV.SRV.TOTL.KD.ZG | NY.TRF.NCTR.CN | NY.ADJ.NNTY.PC.KD.ZG | NY.GNP.PCAP.KD.ZG | ... | GC.TAX.TOTL.GD.ZS | GC.XPN.COMP.ZS | GC.XPN.GSRV.ZS | IQ.SCI.PRDC | MS.MIL.MPRT.KD | MS.MIL.TOTL.P1 | VC.IHR.PSRC.FE.P5 | SL.EMP.1524.SP.MA.NE.ZS | SL.IND.EMPL.ZS | SL.TLF.ACTI.1524.NE.ZS | \n",
       "|---|---|---|---|---|---|---|---|---|---|---|---|---|---|---|\n",
       "| 2002 | 11750000     | 7110000      | 1050000      | 2.282044762  | 0.827541324  | NA           |  3.6716988   | 4.01519e+11  |  1.4259737   |  1.4418051   | ...          | 16.20170     | 20.66964     |  8.557085    | NA           | 7.4e+07      | 117300       | NA           | 35.6970      | 23.857       | 36.31100082  | \n",
       "| 2003 | 12880000     | 10490000     | 1210000      | 1.119924268  | 0.550035936  | -3020000     |  5.1055706   | 4.35704e+11  |  1.2352153   |  0.8391240   | ...          | 15.94896     | 20.82987     |  8.138862    | NA           | 1.87e+08     | 114100       | NA           | 35.0430      | 23.395       | 36.08399963  | \n",
       "| 2004 | NA           | 16680000     | 1690000      | 6.600785693  | 8.265673635  | -1740000     |  7.3900597   | 6.81718e+11  |  5.2914433   |  3.5166390   | ...          | 16.40223     | 20.93046     |  9.076127    | 93.33333     | 7e+07        | 116000       | NA           | 34.7640      | 23.602       | 36.35100174  | \n",
       "| 2005 | 14400000     | 23280000     | 1110000      | 3.257283633  | 27.17966478  | -120000      |  7.0941922   | 1.01536e+12  |  7.2944249   |  3.8025298   | ...          | 18.02512     | 20.96063     | 10.130692    | 93.33333     | 4.49e+08     | 116000       | 1.017180298  | 34.4990      | 22.953       | 36.20000076  | \n",
       "| 2006 | 9870000      | 12300000     | 1170000      | 5.141347382  | 14.41657585  | -310000      |  7.3891882   | 1.8335e+12   |  1.9976394   |  0.1891294   | ...          | 19.49191     | 20.86325     | 10.567692    | 93.33333     | NA           | 103000       | 1.103524414  | 35.6460      | 23.291       | 36.61800003  | \n",
       "| 2007 | 10180000     | 12510000     |  790000      | 2.602416839  | 4.35047537   | -1060000     |  7.7456422   | 1.66218e+12  |  6.4468123   |  4.9345295   | ...          | 20.25693     | 21.00051     | 11.252845    | 93.33333     | 6.62e+08     | 103000       | 1.332160712  | 35.9700      | 23.381       | 37.14500046  | \n",
       "| 2008 | 9100000      | 6460000      | 1000000      | 1.264355069  | 24.93514943  | 950000       |  5.2764984   | 1.52344e+12  |  0.8854268   |  7.2892237   | ...          | 18.71186     | 20.34862     |  9.758001    | 96.66667     | 3.97e+08     | 103000       | 1.223644713  | 37.4350      | 23.540       | NA           | \n",
       "| 2009 | 9600000      | 10800000     | 1330000      | NA           | NA           | 1840000      | -0.3289782   | 9.1113e+11   |  3.0544294   | -1.6434954   | ...          | 14.52310     | 20.33905     |  9.942340    | 96.66667     | 3.35e+08     | 103771       | 1.168668793  | 34.1500      | 23.474       | 38.42900085  | \n",
       "| 2010 | 10130000     | 16150000     | 1890000      | 3.268086553  | 34.20739863  | NA           |  6.5602516   | NA           | 10.1029386   |  4.0632161   | ...          | 17.35651     | 20.38086     | 10.408129    | 93.33333     | 4.75e+08     | 103771       | 1.118484956  | 36.5566      | 22.957       | 37.69630051  | \n",
       "| 2011 | 9680000      | NA           |  950000      | NA           | 17.34492116  | 3700000      |  7.8876684   | 1.42505e+12  |  6.3198663   |  6.3057323   | ...          | 18.85899     | 20.36051     | 10.807048    | 93.33333     | 3.26e+08     | 103750       | 1.327502021  | 37.5504      | 23.375       | 38.59550095  | \n",
       "| 2012 | 11500000     | 1940000      | 1350000      | 3.330944501  | 10.82677847  | 1670000      |  5.9298291   | 1.05797e+12  |  5.4278364   |  5.9979889   | ...          | 18.99487     | 20.54347     | 10.051501    | 93.33333     | 6.2e+07      | 106100       | NA           | 36.0482      | 23.830       | 37.32410049  | \n",
       "| 2013 | 8070000      | 5910000      |  710000      | 2.032190539  | -0.116455698 | 1510000      |  3.9306454   | 1.16366e+12  |  3.3440236   |  3.6218825   | ...          | 17.38697     | 21.00083     |  9.814406    | 96.66666667  | 5.4e+07      | 106100       | 1.224882675  | 35.3448      | 23.878       | 36.51589966  | \n",
       "| 2014 | 10400000     | NA           |  520000      | -0.709774342 | -10.19868192 | 2780000      |  2.6180100   | 1.27478e+12  |  1.6157042   |  1.8265024   | ...          | 16.96739     | 20.96062     | 10.332078    | 96.66666667  | 1.41e+08     | 109450       | 1.383235678  | 34.9984      | 23.487       | 36.23899841  | \n",
       "| 2015 | 6670000      | 6520000      |  430000      | 0.334289777  | 2.383258734  | 1540000      |  2.8042565   | 1.2957e+12   |  2.2708835   |  2.0463279   | ...          | 17.43801     | 20.86789     |  9.553462    | 96.6667      | 1.44e+08     | 109450       | 0.747253203  | 35.2015      | 23.284       | 35.9844017   | \n",
       "| 2016 | 5950000      | 5460000      |  250000      | -2.359767475 | -3.897984093 | 1420000      |  2.2682620   | 1.02078e+12  |  1.2321600   |  0.5168645   | ...          | 17.41744     | 21.09209     |  9.323822    | 96.6667      | 4e+07        | 121900       | 0.995812495  | 33.5866      | 23.011       | 34.73040009  | \n",
       "\n",
       "\n"
      ],
      "text/plain": [
       "     DC.DAC.FRAL.CD DC.DAC.CECL.CD DC.DAC.CHEL.CD NV.IND.MANF.KD.ZG\n",
       "2002 11750000       7110000        1050000        2.282044762      \n",
       "2003 12880000       10490000       1210000        1.119924268      \n",
       "2004 NA             16680000       1690000        6.600785693      \n",
       "2005 14400000       23280000       1110000        3.257283633      \n",
       "2006 9870000        12300000       1170000        5.141347382      \n",
       "2007 10180000       12510000        790000        2.602416839      \n",
       "2008 9100000        6460000        1000000        1.264355069      \n",
       "2009 9600000        10800000       1330000        NA               \n",
       "2010 10130000       16150000       1890000        3.268086553      \n",
       "2011 9680000        NA              950000        NA               \n",
       "2012 11500000       1940000        1350000        3.330944501      \n",
       "2013 8070000        5910000         710000        2.032190539      \n",
       "2014 10400000       NA              520000        -0.709774342     \n",
       "2015 6670000        6520000         430000        0.334289777      \n",
       "2016 5950000        5460000         250000        -2.359767475     \n",
       "     NE.GDI.TOTL.KD.ZG DC.DAC.USAL.CD NV.SRV.TOTL.KD.ZG NY.TRF.NCTR.CN\n",
       "2002 0.827541324       NA              3.6716988        4.01519e+11   \n",
       "2003 0.550035936       -3020000        5.1055706        4.35704e+11   \n",
       "2004 8.265673635       -1740000        7.3900597        6.81718e+11   \n",
       "2005 27.17966478       -120000         7.0941922        1.01536e+12   \n",
       "2006 14.41657585       -310000         7.3891882        1.8335e+12    \n",
       "2007 4.35047537        -1060000        7.7456422        1.66218e+12   \n",
       "2008 24.93514943       950000          5.2764984        1.52344e+12   \n",
       "2009 NA                1840000        -0.3289782        9.1113e+11    \n",
       "2010 34.20739863       NA              6.5602516        NA            \n",
       "2011 17.34492116       3700000         7.8876684        1.42505e+12   \n",
       "2012 10.82677847       1670000         5.9298291        1.05797e+12   \n",
       "2013 -0.116455698      1510000         3.9306454        1.16366e+12   \n",
       "2014 -10.19868192      2780000         2.6180100        1.27478e+12   \n",
       "2015 2.383258734       1540000         2.8042565        1.2957e+12    \n",
       "2016 -3.897984093      1420000         2.2682620        1.02078e+12   \n",
       "     NY.ADJ.NNTY.PC.KD.ZG NY.GNP.PCAP.KD.ZG ... GC.TAX.TOTL.GD.ZS\n",
       "2002  1.4259737            1.4418051        ... 16.20170         \n",
       "2003  1.2352153            0.8391240        ... 15.94896         \n",
       "2004  5.2914433            3.5166390        ... 16.40223         \n",
       "2005  7.2944249            3.8025298        ... 18.02512         \n",
       "2006  1.9976394            0.1891294        ... 19.49191         \n",
       "2007  6.4468123            4.9345295        ... 20.25693         \n",
       "2008  0.8854268            7.2892237        ... 18.71186         \n",
       "2009  3.0544294           -1.6434954        ... 14.52310         \n",
       "2010 10.1029386            4.0632161        ... 17.35651         \n",
       "2011  6.3198663            6.3057323        ... 18.85899         \n",
       "2012  5.4278364            5.9979889        ... 18.99487         \n",
       "2013  3.3440236            3.6218825        ... 17.38697         \n",
       "2014  1.6157042            1.8265024        ... 16.96739         \n",
       "2015  2.2708835            2.0463279        ... 17.43801         \n",
       "2016  1.2321600            0.5168645        ... 17.41744         \n",
       "     GC.XPN.COMP.ZS GC.XPN.GSRV.ZS IQ.SCI.PRDC MS.MIL.MPRT.KD MS.MIL.TOTL.P1\n",
       "2002 20.66964        8.557085      NA          7.4e+07        117300        \n",
       "2003 20.82987        8.138862      NA          1.87e+08       114100        \n",
       "2004 20.93046        9.076127      93.33333    7e+07          116000        \n",
       "2005 20.96063       10.130692      93.33333    4.49e+08       116000        \n",
       "2006 20.86325       10.567692      93.33333    NA             103000        \n",
       "2007 21.00051       11.252845      93.33333    6.62e+08       103000        \n",
       "2008 20.34862        9.758001      96.66667    3.97e+08       103000        \n",
       "2009 20.33905        9.942340      96.66667    3.35e+08       103771        \n",
       "2010 20.38086       10.408129      93.33333    4.75e+08       103771        \n",
       "2011 20.36051       10.807048      93.33333    3.26e+08       103750        \n",
       "2012 20.54347       10.051501      93.33333    6.2e+07        106100        \n",
       "2013 21.00083        9.814406      96.66666667 5.4e+07        106100        \n",
       "2014 20.96062       10.332078      96.66666667 1.41e+08       109450        \n",
       "2015 20.86789        9.553462      96.6667     1.44e+08       109450        \n",
       "2016 21.09209        9.323822      96.6667     4e+07          121900        \n",
       "     VC.IHR.PSRC.FE.P5 SL.EMP.1524.SP.MA.NE.ZS SL.IND.EMPL.ZS\n",
       "2002 NA                35.6970                 23.857        \n",
       "2003 NA                35.0430                 23.395        \n",
       "2004 NA                34.7640                 23.602        \n",
       "2005 1.017180298       34.4990                 22.953        \n",
       "2006 1.103524414       35.6460                 23.291        \n",
       "2007 1.332160712       35.9700                 23.381        \n",
       "2008 1.223644713       37.4350                 23.540        \n",
       "2009 1.168668793       34.1500                 23.474        \n",
       "2010 1.118484956       36.5566                 22.957        \n",
       "2011 1.327502021       37.5504                 23.375        \n",
       "2012 NA                36.0482                 23.830        \n",
       "2013 1.224882675       35.3448                 23.878        \n",
       "2014 1.383235678       34.9984                 23.487        \n",
       "2015 0.747253203       35.2015                 23.284        \n",
       "2016 0.995812495       33.5866                 23.011        \n",
       "     SL.TLF.ACTI.1524.NE.ZS\n",
       "2002 36.31100082           \n",
       "2003 36.08399963           \n",
       "2004 36.35100174           \n",
       "2005 36.20000076           \n",
       "2006 36.61800003           \n",
       "2007 37.14500046           \n",
       "2008 NA                    \n",
       "2009 38.42900085           \n",
       "2010 37.69630051           \n",
       "2011 38.59550095           \n",
       "2012 37.32410049           \n",
       "2013 36.51589966           \n",
       "2014 36.23899841           \n",
       "2015 35.9844017            \n",
       "2016 34.73040009           "
      ]
     },
     "metadata": {},
     "output_type": "display_data"
    }
   ],
   "source": [
    "data"
   ]
  },
  {
   "cell_type": "code",
   "execution_count": 4,
   "metadata": {},
   "outputs": [
    {
     "data": {
      "image/png": "[encoded data removed]",
      "text/plain": [
       "plot without title"
      ]
     },
     "metadata": {},
     "output_type": "display_data"
    }
   ],
   "source": [
    "len = length(data)\n",
    "pattern<-md.pattern(data[,c(1:len)])"
   ]
  },
  {
   "cell_type": "markdown",
   "metadata": {},
   "source": [
    "# Histograma de datos faltantes"
   ]
  },
  {
   "cell_type": "code",
   "execution_count": 5,
   "metadata": {},
   "outputs": [
    {
     "name": "stdout",
     "output_type": "stream",
     "text": [
      "\n",
      " Variables sorted by number of missings: \n",
      "                Variable      Count\n",
      "          NY.GDP.DISC.CN 0.46666667\n",
      "       IC.TAX.LABR.CP.ZS 0.40000000\n",
      "             PA.NUS.FCRF 0.33333333\n",
      "       SE.PRM.TCHR.FE.ZS 0.33333333\n",
      "          AG.LND.AGRI.ZS 0.26666667\n",
      "          IS.RRS.PASG.KM 0.26666667\n",
      "    TM.TAX.MANF.WM.FN.ZS 0.26666667\n",
      "       TX.MNF.TECH.ZS.UN 0.26666667\n",
      "       VC.IHR.PSRC.FE.P5 0.26666667\n",
      "    BX.TRF.PWKR.DT.GD.ZS 0.20000000\n",
      "          DC.DAC.JPNL.CD 0.20000000\n",
      "          SE.PRE.ENRR.FE 0.20000000\n",
      "       SE.PRM.ENRL.TC.ZS 0.20000000\n",
      "    SE.SEC.ENRL.UP.TC.ZS 0.20000000\n",
      "    SE.SEC.ENRL.LO.TC.ZS 0.20000000\n",
      "       EG.USE.COMM.FO.ZS 0.20000000\n",
      "       SH.STA.ODFC.UR.ZS 0.20000000\n",
      "          IS.RRS.TOTL.KM 0.20000000\n",
      "    TM.TAX.TCOM.WM.FN.ZS 0.20000000\n",
      "          VC.IHR.PSRC.P5 0.20000000\n",
      "          BN.RES.INCL.CD 0.20000000\n",
      "       NY.ADJ.DKAP.GN.ZS 0.20000000\n",
      "          EG.USE.CRNW.ZS 0.20000000\n",
      "          SG.GEN.PARL.ZS 0.20000000\n",
      "          DC.DAC.CECL.CD 0.13333333\n",
      "       NV.IND.MANF.KD.ZG 0.13333333\n",
      "          DC.DAC.USAL.CD 0.13333333\n",
      "          DC.DAC.FINL.CD 0.13333333\n",
      "       NY.ADJ.SVNX.GN.ZS 0.13333333\n",
      "          BX.GSR.TRAN.ZS 0.13333333\n",
      "          NV.AGR.TOTL.KD 0.13333333\n",
      "       DT.ODA.ODAT.GN.ZS 0.13333333\n",
      "          EG.ELC.LOSS.ZS 0.13333333\n",
      "       EN.ATM.CO2E.LF.ZS 0.13333333\n",
      "       EN.ATM.CO2E.GF.ZS 0.13333333\n",
      "       EN.ATM.CO2E.LF.KT 0.13333333\n",
      "          EN.ATM.CO2E.KT 0.13333333\n",
      "       EN.ATM.CO2E.PP.GD 0.13333333\n",
      "          FB.CBK.BRCH.P5 0.13333333\n",
      "             IP.TMK.TOTL 0.13333333\n",
      "       TX.VAL.TRAN.ZS.WT 0.13333333\n",
      "       GC.TAX.INTT.RV.ZS 0.13333333\n",
      "       GC.TAX.OTHR.RV.ZS 0.13333333\n",
      "          GC.TAX.YPKG.ZS 0.13333333\n",
      "       GC.TAX.YPKG.RV.ZS 0.13333333\n",
      "             IQ.SCI.OVRL 0.13333333\n",
      "          DC.DAC.GRCL.CD 0.13333333\n",
      "          DC.DAC.NORL.CD 0.13333333\n",
      "          PA.NUS.PPPC.RF 0.13333333\n",
      "          PA.NUS.PRVT.PP 0.13333333\n",
      "          EN.CO2.OTHX.ZS 0.13333333\n",
      "          BX.GSR.CCIS.ZS 0.13333333\n",
      "             IP.PAT.NRES 0.13333333\n",
      "       TX.VAL.ICTG.ZS.UN 0.13333333\n",
      "          GC.TAX.INTT.CN 0.13333333\n",
      "             IQ.SCI.PRDC 0.13333333\n",
      "          DC.DAC.FRAL.CD 0.06666667\n",
      "       NE.GDI.TOTL.KD.ZG 0.06666667\n",
      "          NY.TRF.NCTR.CN 0.06666667\n",
      "          DT.NFL.UNDP.CD 0.06666667\n",
      "          NE.IMP.GNFS.ZS 0.06666667\n",
      "          NY.ADJ.DNGY.CD 0.06666667\n",
      "          NV.IND.MANF.ZS 0.06666667\n",
      "       NY.ADJ.DRES.GN.ZS 0.06666667\n",
      "       SE.PRM.GINT.MA.ZS 0.06666667\n",
      "       SE.XPD.TOTL.GB.ZS 0.06666667\n",
      "          SE.PRM.GINT.ZS 0.06666667\n",
      "       SE.XPD.TOTL.GD.ZS 0.06666667\n",
      "          SE.XPD.TERT.ZS 0.06666667\n",
      "    EG.GDP.PUSE.KO.PP.KD 0.06666667\n",
      "       EG.GDP.PUSE.KO.PP 0.06666667\n",
      "             SP.URB.GROW 0.06666667\n",
      "          AG.LND.ARBL.ZS 0.06666667\n",
      "       FM.LBL.BMNY.IR.ZS 0.06666667\n",
      "             PX.REX.REER 0.06666667\n",
      "       FM.AST.PRVT.ZG.M3 0.06666667\n",
      "       NY.GDP.DEFL.KD.ZG 0.06666667\n",
      "       SH.H2O.SMDW.UR.ZS 0.06666667\n",
      "          SH.H2O.SMDW.ZS 0.06666667\n",
      "       SH.STA.SMSS.UR.ZS 0.06666667\n",
      "       SH.XPD.GHED.PC.CD 0.06666667\n",
      "          SH.STA.SMSS.ZS 0.06666667\n",
      "       TM.VAL.TRAN.ZS.WT 0.06666667\n",
      "       TM.VAL.MRCH.RS.ZS 0.06666667\n",
      "       TM.VAL.MANF.ZS.UN 0.06666667\n",
      "       TX.VAL.MRCH.RS.ZS 0.06666667\n",
      "       TM.VAL.MRCH.OR.ZS 0.06666667\n",
      "       TM.TAX.MANF.BC.ZS 0.06666667\n",
      "    TM.TAX.MRCH.WM.AR.ZS 0.06666667\n",
      "             IC.REG.DURS 0.06666667\n",
      "       SL.EMP.SELF.FE.ZS 0.06666667\n",
      "          DC.DAC.CANL.CD 0.06666667\n",
      "          DC.DAC.KORL.CD 0.06666667\n",
      "          DC.DAC.NZLL.CD 0.06666667\n",
      "          DT.NFL.UNFP.CD 0.06666667\n",
      "       NY.GDP.COAL.RT.ZS 0.06666667\n",
      "       NY.GDP.FRST.RT.ZS 0.06666667\n",
      "          FP.CPI.TOTL.ZG 0.06666667\n",
      "             IP.PAT.RESD 0.06666667\n",
      "       TM.VAL.ICTG.ZS.UN 0.06666667\n",
      "          TX.VAL.TECH.CD 0.06666667\n",
      "       TM.TAX.TCOM.BR.ZS 0.06666667\n",
      "       TM.VAL.MRCH.R4.ZS 0.06666667\n",
      "       GC.TAX.GSRV.VA.ZS 0.06666667\n",
      "          MS.MIL.MPRT.KD 0.06666667\n",
      "  SL.TLF.ACTI.1524.NE.ZS 0.06666667\n",
      "          DC.DAC.CHEL.CD 0.00000000\n",
      "       NV.SRV.TOTL.KD.ZG 0.00000000\n",
      "    NY.ADJ.NNTY.PC.KD.ZG 0.00000000\n",
      "       NY.GNP.PCAP.KD.ZG 0.00000000\n",
      "       DT.ODA.ODAT.MP.ZS 0.00000000\n",
      "          BX.TRF.CURR.CD 0.00000000\n",
      "          BM.GSR.TOTL.CD 0.00000000\n",
      "          NE.TRD.GNFS.ZS 0.00000000\n",
      "    NE.CON.PRVT.PC.KD.ZG 0.00000000\n",
      "          NV.SRV.EMPL.KD 0.00000000\n",
      "          NE.GDI.STKB.CN 0.00000000\n",
      "       NY.GDP.PCAP.KD.ZG 0.00000000\n",
      "          NE.CON.GOVT.ZS 0.00000000\n",
      "       NE.IMP.GNFS.KD.ZG 0.00000000\n",
      "          NY.GSR.NFCY.CD 0.00000000\n",
      "          NV.IND.EMPL.KD 0.00000000\n",
      "          NV.IND.TOTL.KN 0.00000000\n",
      "       NY.GDP.MKTP.KD.ZG 0.00000000\n",
      "          NY.GDS.TOTL.ZS 0.00000000\n",
      "          NV.SRV.TOTL.ZS 0.00000000\n",
      "          BX.GSR.CMCP.ZS 0.00000000\n",
      "       BM.TRF.PWKR.CD.DT 0.00000000\n",
      "          NY.TAX.NIND.KN 0.00000000\n",
      "       NE.CON.PRVT.KD.ZG 0.00000000\n",
      "          BN.CAB.XOKA.CD 0.00000000\n",
      "          BN.GSR.GNFS.CD 0.00000000\n",
      "          NV.IND.MANF.KD 0.00000000\n",
      "          DT.ODA.ALLD.CD 0.00000000\n",
      "       BX.KLT.DINV.CD.WD 0.00000000\n",
      "          BM.TRF.PRVT.CD 0.00000000\n",
      "          BM.GSR.ROYL.CD 0.00000000\n",
      "          NE.GDI.TOTL.CD 0.00000000\n",
      "          NV.IND.TOTL.ZS 0.00000000\n",
      "          NE.CON.GOVT.CN 0.00000000\n",
      "       NY.GNS.ICTR.GN.ZS 0.00000000\n",
      "          NE.GDI.TOTL.KD 0.00000000\n",
      "          NY.GDS.TOTL.CD 0.00000000\n",
      "          NY.GNS.ICTR.CD 0.00000000\n",
      "          NE.DAB.TOTL.CD 0.00000000\n",
      "          NY.GDP.FCST.CD 0.00000000\n",
      "          NE.IMP.GNFS.CD 0.00000000\n",
      "          NE.CON.PRVT.ZS 0.00000000\n",
      "          NV.SRV.TOTL.CD 0.00000000\n",
      "          NY.GDP.FCST.CN 0.00000000\n",
      "          NY.ADJ.DKAP.CD 0.00000000\n",
      "          NY.GDP.MKTP.CD 0.00000000\n",
      "       NY.GDP.PCAP.PP.CD 0.00000000\n",
      "          NE.IMP.GNFS.KD 0.00000000\n",
      "          NY.GDP.PCAP.CD 0.00000000\n",
      "          NE.GDI.FTOT.KD 0.00000000\n",
      "          NE.DAB.TOTL.KD 0.00000000\n",
      "          NE.DAB.TOTL.KN 0.00000000\n",
      "    SE.SEC.ENRL.GC.FE.ZS 0.00000000\n",
      "          SE.SEC.ENRL.GC 0.00000000\n",
      "       SE.ENR.SECO.FM.ZS 0.00000000\n",
      "       SE.XPD.SECO.PC.ZS 0.00000000\n",
      "             SE.PRE.DURS 0.00000000\n",
      "             SE.SEC.ENRR 0.00000000\n",
      "          SE.TER.ENRR.MA 0.00000000\n",
      "          SE.TER.ENRR.FE 0.00000000\n",
      "       NY.GDP.PETR.RT.ZS 0.00000000\n",
      "       NY.GDP.TOTL.RT.ZS 0.00000000\n",
      "          EG.CFT.ACCS.ZS 0.00000000\n",
      "             EN.POP.DNST 0.00000000\n",
      "             SP.RUR.TOTL 0.00000000\n",
      "             EN.URB.MCTY 0.00000000\n",
      "             EN.URB.LCTY 0.00000000\n",
      "       FS.AST.CGOV.GD.ZS 0.00000000\n",
      "       FM.LBL.BMNY.GD.ZS 0.00000000\n",
      "       NY.GDP.DEFL.ZS.AD 0.00000000\n",
      "          CM.MKT.LCAP.CD 0.00000000\n",
      "       CM.MKT.TRAD.GD.ZS 0.00000000\n",
      "             FP.CPI.TOTL 0.00000000\n",
      "       SP.POP.3034.MA.5Y 0.00000000\n",
      "          SH.HIV.ARTC.ZS 0.00000000\n",
      "          SH.ANM.CHLD.ZS 0.00000000\n",
      "       SP.POP.2529.MA.5Y 0.00000000\n",
      "             SP.POP.DPND 0.00000000\n",
      "       SP.POP.2024.FE.5Y 0.00000000\n",
      "       SP.DYN.TO65.FE.ZS 0.00000000\n",
      "       SP.POP.1564.MA.ZS 0.00000000\n",
      "             SH.HIV.INCD 0.00000000\n",
      "       SP.POP.6064.MA.5Y 0.00000000\n",
      "       SP.POP.80UP.FE.5Y 0.00000000\n",
      "             SP.ADO.TFRT 0.00000000\n",
      "          SP.POP.DPND.OL 0.00000000\n",
      "          SP.DYN.CBRT.IN 0.00000000\n",
      "       SP.DYN.TO65.MA.ZS 0.00000000\n",
      "          SP.DYN.AMRT.MA 0.00000000\n",
      "             IS.AIR.DPRT 0.00000000\n",
      "          IT.NET.BBND.P2 0.00000000\n",
      "             IT.CEL.SETS 0.00000000\n",
      "       TX.VAL.OTHR.ZS.WT 0.00000000\n",
      "       TM.VAL.MRCH.CD.WT 0.00000000\n",
      "       TM.VAL.MMTL.ZS.UN 0.00000000\n",
      "       ST.INT.XPND.MP.ZS 0.00000000\n",
      "       TX.VAL.MMTL.ZS.UN 0.00000000\n",
      "       TX.VAL.MRCH.WL.CD 0.00000000\n",
      "       TM.VAL.MRCH.R1.ZS 0.00000000\n",
      "       TX.VAL.FUEL.ZS.UN 0.00000000\n",
      "       TM.UVI.MRCH.XD.WD 0.00000000\n",
      "       TX.VAL.MRCH.XD.WD 0.00000000\n",
      "       TM.VAL.MRCH.R5.ZS 0.00000000\n",
      "       TM.VAL.OTHR.ZS.WT 0.00000000\n",
      "       TX.VAL.MRCH.OR.ZS 0.00000000\n",
      "             ST.INT.ARVL 0.00000000\n",
      "       TX.VAL.MRCH.HI.ZS 0.00000000\n",
      "       TX.VAL.MRCH.CD.WT 0.00000000\n",
      "       TM.VAL.SERV.CD.WT 0.00000000\n",
      "          ST.INT.XPND.CD 0.00000000\n",
      "          ST.INT.RCPT.CD 0.00000000\n",
      "          MS.MIL.XPND.ZS 0.00000000\n",
      "       GC.XPN.TOTL.GD.ZS 0.00000000\n",
      "          GC.XPN.INTP.ZS 0.00000000\n",
      "       MS.MIL.XPND.GD.ZS 0.00000000\n",
      "       MS.MIL.TOTL.TF.ZS 0.00000000\n",
      "          MS.MIL.XPND.CN 0.00000000\n",
      "          GC.XPN.TOTL.CN 0.00000000\n",
      "          GC.REV.SOCL.ZS 0.00000000\n",
      "          GC.XPN.COMP.CN 0.00000000\n",
      "          GC.XPN.OTHR.CN 0.00000000\n",
      "          GC.XPN.GSRV.CN 0.00000000\n",
      "       SL.SRV.EMPL.FE.ZS 0.00000000\n",
      "          SM.POP.REFG.OR 0.00000000\n",
      "    SL.TLF.CACT.MA.NE.ZS 0.00000000\n",
      "       SL.UEM.1524.FE.ZS 0.00000000\n",
      "       SL.UEM.TOTL.MA.ZS 0.00000000\n",
      "       SL.TLF.CACT.NE.ZS 0.00000000\n",
      "          SL.TLF.TOTL.IN 0.00000000\n",
      "     SL.TLF.ACTI.1524.ZS 0.00000000\n",
      "       SL.EMP.WORK.MA.ZS 0.00000000\n",
      "          SL.UEM.1524.ZS 0.00000000\n",
      "    SL.TLF.CACT.FE.NE.ZS 0.00000000\n",
      "       SL.EMP.1524.SP.ZS 0.00000000\n",
      "          SL.TLF.CACT.ZS 0.00000000\n",
      "       SL.EMP.TOTL.SP.ZS 0.00000000\n",
      "       SL.TLF.CACT.FE.ZS 0.00000000\n",
      "       SL.EMP.VULN.MA.ZS 0.00000000\n",
      "    SL.EMP.TOTL.SP.NE.ZS 0.00000000\n",
      "    SL.EMP.1524.SP.FE.ZS 0.00000000\n",
      "          BM.GSR.INSF.ZS 0.00000000\n",
      "          BN.KAC.EOMS.CD 0.00000000\n",
      "          BN.KLT.DINV.CD 0.00000000\n",
      "          BN.KLT.PTXL.CD 0.00000000\n",
      "          DC.DAC.PRTL.CD 0.00000000\n",
      "          DT.NFL.MIBR.CD 0.00000000\n",
      "       NE.CON.GOVT.KD.ZG 0.00000000\n",
      "       NV.AGR.TOTL.KD.ZG 0.00000000\n",
      "       NY.ADJ.DNGY.GN.ZS 0.00000000\n",
      "       NY.GDP.NGAS.RT.ZS 0.00000000\n",
      "          CM.MKT.INDX.ZG 0.00000000\n",
      "          FB.AST.NPER.ZS 0.00000000\n",
      "       FM.AST.CGOV.ZG.M3 0.00000000\n",
      "             FR.INR.LNDP 0.00000000\n",
      "             SH.IMM.IDPT 0.00000000\n",
      "             SH.IMM.MEAS 0.00000000\n",
      "             SH.TBS.INCD 0.00000000\n",
      "             IP.IDS.RSCT 0.00000000\n",
      "             IT.MLT.MAIN 0.00000000\n",
      "       TX.VAL.TECH.MF.ZS 0.00000000\n",
      "       TM.VAL.INSF.ZS.WT 0.00000000\n",
      "       TX.VAL.MRCH.R2.ZS 0.00000000\n",
      "          GC.REV.GOTR.CN 0.00000000\n",
      "       GC.TAX.TOTL.GD.ZS 0.00000000\n",
      "          GC.XPN.COMP.ZS 0.00000000\n",
      "          GC.XPN.GSRV.ZS 0.00000000\n",
      "          MS.MIL.TOTL.P1 0.00000000\n",
      " SL.EMP.1524.SP.MA.NE.ZS 0.00000000\n",
      "          SL.IND.EMPL.ZS 0.00000000\n"
     ]
    },
    {
     "data": {
      "image/png": "[encoded data removed]",
      "text/plain": [
       "plot without title"
      ]
     },
     "metadata": {},
     "output_type": "display_data"
    }
   ],
   "source": [
    "aggr_plot <- aggr(data[,c(1:len)], col=c('navyblue','red'), numbers=TRUE, sortVars=TRUE, labels=names(data), cex.axis=.7, gap=3, ylab=c(\"Histogram of missing data\",\"Pattern\"))"
   ]
  },
  {
   "cell_type": "markdown",
   "metadata": {},
   "source": [
    "# Grafico de concurrencia de datos faltantes"
   ]
  },
  {
   "cell_type": "code",
   "execution_count": 6,
   "metadata": {},
   "outputs": [
    {
     "data": {
      "image/png": "[encoded data removed]",
      "text/plain": [
       "plot without title"
      ]
     },
     "metadata": {},
     "output_type": "display_data"
    }
   ],
   "source": [
    "marginplot(data[c(2,5)])"
   ]
  },
  {
   "cell_type": "markdown",
   "metadata": {},
   "source": [
    "# Imputacion de datos "
   ]
  },
  {
   "cell_type": "code",
   "execution_count": 7,
   "metadata": {},
   "outputs": [],
   "source": [
    "#funcion para imputar datos que han sido eliminados manualmente\n",
    "imputarDelData <-function(ruta, paises, metodo, archivo){\n",
    "    tamaño = length(paises)\n",
    "    for (i in paises){\n",
    "        data = read.xlsx(ruta,i)\n",
    "        data <- as.data.frame(data)\n",
    "        data[data==\"\"]=NA\n",
    "        #definir la cantidad de datos a imputar\n",
    "        imp <- mice(data[c(1:25),], method=metodo, seed=1, print=FALSE, m=5, maxit=20)\n",
    "        compl = mice::complete(imp)\n",
    "        write.xlsx(compl, archivo, sheetName=i, col.names=TRUE, row.names=FALSE, append=TRUE, showNA=TRUE, password=NULL)\n",
    "    }\n",
    "}\n",
    "\n",
    "#ruta = 'datos_reales/delData.xlsx'\n",
    "#paises = c('ARG','BOL', 'BRA', 'CHL', 'COL', 'ECU','GUY', 'PER', 'PRY','SUR','TTO', 'URY', 'VEN')\n",
    "#metodo = \"cart\"\n",
    "#archivo = \"imputacionDelDataCart.xlsx\"\n",
    "#imputar(ruta, paises, metodo, archivo)"
   ]
  },
  {
   "cell_type": "code",
   "execution_count": null,
   "metadata": {},
   "outputs": [],
   "source": [
    "ruta = 'datos_reales/delData.xlsx'\n",
    "paises = c('ARG','BOL', 'BRA', 'CHL', 'COL', 'ECU','GUY', 'PER', 'PRY','SUR','TTO', 'URY', 'VEN')\n",
    "metodo = \"pmm\"\n",
    "archivo = \"imputacionDelPmm.xlsx\"\n",
    "imputarDelData(ruta, paises, metodo, archivo)"
   ]
  },
  {
   "cell_type": "code",
   "execution_count": 8,
   "metadata": {},
   "outputs": [],
   "source": [
    "#funcion para imputar\n",
    "imputar <-function(ruta, paises, metodo, archivo){\n",
    "    tamaño = length(paises)\n",
    "    for (i in paises){\n",
    "        data = read.xlsx(ruta,i)\n",
    "        data <- as.data.frame(data)\n",
    "        data[data==\"\"]=NA\n",
    "        #definir la cantidad de datos a imputar\n",
    "        imp <- mice(data, method=metodo, seed=1, print=FALSE, m=5, maxit=20)\n",
    "        compl = mice::complete(imp)\n",
    "        write.xlsx(compl, archivo, sheetName=i, col.names=TRUE, row.names=FALSE, append=TRUE, showNA=TRUE, password=NULL)\n",
    "    }\n",
    "}"
   ]
  },
  {
   "cell_type": "code",
   "execution_count": null,
   "metadata": {},
   "outputs": [],
   "source": [
    "#ruta: indica la direccion del archivo a imputar; solo formato xlsx\n",
    "#paises: codigo de indicadores de cada pais, establecido como sheet en ruta\n",
    "#metodo: metodo de imputacion(pmm, cart) observacion:averiguar en la libreria mice para mas metodos\n",
    "#archivo: nombre del archivo a guardar, solo formato xlxs\n",
    "ruta = 'datos_reales/CHL.xlsx'\n",
    "#paises = c('ARG','BOL', 'BRA', 'CHL', 'COL', 'ECU','GUY', 'PER', 'PRY','SUR','TTO', 'URY', 'VEN')\n",
    "paises = c('influyentes y sin correlacion')\n",
    "metodo = \"cart\"\n",
    "archivo = \"imputacionCHL.xlsx\"\n",
    "imputar(ruta, paises, metodo, archivo)"
   ]
  },
  {
   "cell_type": "markdown",
   "metadata": {},
   "source": [
    "# PCA"
   ]
  },
  {
   "cell_type": "markdown",
   "metadata": {},
   "source": [
    "# https://rpubs.com/Cristina_Gil/PCA\n",
    "http://www.sthda.com/english/wiki/factoextra-r-package-easy-multivariate-data-analyses-and-elegant-visualization\n",
    "https://rpubs.com/Cristina_Gil/PCA"
   ]
  },
  {
   "cell_type": "code",
   "execution_count": null,
   "metadata": {},
   "outputs": [],
   "source": [
    "library(\"FactoMineR\")\n",
    "library(\"factoextra\")\n",
    "#library(\"dtw\")"
   ]
  },
  {
   "cell_type": "code",
   "execution_count": null,
   "metadata": {},
   "outputs": [],
   "source": [
    "#data = read.xlsx('datos_reales/intersectionPerCountry.xlsx',\"ARG\")\n",
    "data = read.xlsx('datos_reales/imputacionCHL.xlsx',\"CHL\")"
   ]
  },
  {
   "cell_type": "code",
   "execution_count": null,
   "metadata": {},
   "outputs": [],
   "source": [
    "sdata = scale(data[,2:ncol(data)], center = TRUE, scale = TRUE)\n",
    "rownames(sdata)<-data[,1]"
   ]
  },
  {
   "cell_type": "code",
   "execution_count": null,
   "metadata": {},
   "outputs": [],
   "source": [
    "head(data)"
   ]
  },
  {
   "cell_type": "code",
   "execution_count": null,
   "metadata": {},
   "outputs": [],
   "source": [
    "nrow(data)"
   ]
  },
  {
   "cell_type": "code",
   "execution_count": null,
   "metadata": {},
   "outputs": [],
   "source": [
    "sdata[1:7,]"
   ]
  },
  {
   "cell_type": "code",
   "execution_count": null,
   "metadata": {},
   "outputs": [],
   "source": [
    "#pca de factor minerR\n",
    "res.pca <- PCA(X = data[20:nrow(data),1:ncol(data)], scale.unit = FALSE, ncp = 64, graph = FALSE)"
   ]
  },
  {
   "cell_type": "code",
   "execution_count": null,
   "metadata": {},
   "outputs": [],
   "source": [
    "# Obtencion de valores propios, varianza de cada componente y la varianza acomulativa\n",
    "#los valores propios mas altos indican que esa componente mantiene la mayor cantidad de informacion\n",
    "get_eig(res.pca)"
   ]
  },
  {
   "cell_type": "code",
   "execution_count": null,
   "metadata": {},
   "outputs": [],
   "source": [
    "#res.pca$var"
   ]
  },
  {
   "cell_type": "code",
   "execution_count": null,
   "metadata": {},
   "outputs": [],
   "source": [
    "fviz_screeplot(res.pca, addlabels = TRUE, ylim = c(0, 70))"
   ]
  },
  {
   "cell_type": "code",
   "execution_count": null,
   "metadata": {},
   "outputs": [],
   "source": [
    "# Extract the results for variables\n",
    "var <- get_pca_var(res.pca)\n",
    "var"
   ]
  },
  {
   "cell_type": "code",
   "execution_count": null,
   "metadata": {},
   "outputs": [],
   "source": [
    "# Coordinates of variables\n",
    "head(var$cor)"
   ]
  },
  {
   "cell_type": "code",
   "execution_count": null,
   "metadata": {},
   "outputs": [],
   "source": [
    "# Contribution of variables\n",
    "head(var$contrib)"
   ]
  },
  {
   "cell_type": "code",
   "execution_count": null,
   "metadata": {},
   "outputs": [],
   "source": [
    "# Control variable colors using their contributions\n",
    "#fviz_pca_var(res.pca, col.var = \"black\")\n",
    "fviz_pca_var(res.pca, col.var=\"contrib\",\n",
    "             gradient.cols = c(\"#00AFBB\", \"#E7B800\", \"#FC4E07\"),\n",
    "             repel = FALSE # Avoid text overlapping\n",
    "             )"
   ]
  },
  {
   "cell_type": "code",
   "execution_count": null,
   "metadata": {},
   "outputs": [],
   "source": [
    "# Contributions of variables to PC1\n",
    "fviz_contrib(res.pca, choice = \"var\", axes = 1, top = 10)\n",
    "# Contributions of variables to PC2\n",
    "fviz_contrib(res.pca, choice = \"var\", axes = 2, top = 10)"
   ]
  },
  {
   "cell_type": "code",
   "execution_count": null,
   "metadata": {},
   "outputs": [],
   "source": [
    "# Extract the results for individuals\n",
    "ind <- get_pca_ind(res.pca)\n",
    "ind"
   ]
  },
  {
   "cell_type": "code",
   "execution_count": null,
   "metadata": {},
   "outputs": [],
   "source": [
    "# Coordinates of individuals\n",
    "#rownames(res.pca$ind$coord) <- data$NA."
   ]
  },
  {
   "cell_type": "code",
   "execution_count": null,
   "metadata": {},
   "outputs": [],
   "source": [
    "#fviz_pca_ind(res.pca, col.var = \"black\", repel = TRUE)"
   ]
  },
  {
   "cell_type": "code",
   "execution_count": null,
   "metadata": {},
   "outputs": [],
   "source": [
    "# Graph of individuals\n",
    "#fviz_pca_ind(res.pca, col.var = \"black\")\n",
    "# 1. Use repel = TRUE to avoid overplotting\n",
    "# 2. Control automatically the color of individuals using the cos2\n",
    "    # cos2 = the quality of the individuals on the factor map\n",
    "    # Use points only\n",
    "# 3. Use gradient color\n",
    "fviz_pca_ind(res.pca, col.ind = \"cos2\",\n",
    "             gradient.cols = c(\"#00AFBB\", \"#E7B800\", \"#FC4E07\"),\n",
    "             repel = TRUE # Avoid text overlapping (slow if many points)\n",
    "             )"
   ]
  },
  {
   "cell_type": "code",
   "execution_count": null,
   "metadata": {},
   "outputs": [],
   "source": [
    "# Biplot of individuals and variables\n",
    "fviz_pca_biplot(res.pca, repel = FALSE)"
   ]
  },
  {
   "cell_type": "code",
   "execution_count": null,
   "metadata": {},
   "outputs": [],
   "source": [
    "#clusteriza las agrupaciones mediante una elipse\n",
    "# Compute PCA on the dataset\n",
    "# before PCA analysis\n",
    "#rownames(res.pca$ind$coord) <- rownames(data)\n",
    "data.pca <- PCA(iris[,1:-5], graph = FALSE)\n",
    "# Visualize\n",
    "# Use habillage to specify groups for coloring\n",
    "fviz_pca_ind(data.pca,\n",
    "             label = \"none\", # hide individual labels\n",
    "             habillage = rownames(data), # color by groups\n",
    "             #palette = c(\"#00AFBB\", \"#E7B800\", \"#FC4E07\"),\n",
    "             addEllipses = TRUE # Concentration ellipses\n",
    "             )"
   ]
  },
  {
   "cell_type": "code",
   "execution_count": null,
   "metadata": {},
   "outputs": [],
   "source": [
    "sdata = (data)\n",
    "init = 1\n",
    "end = ncol(data)"
   ]
  },
  {
   "cell_type": "code",
   "execution_count": null,
   "metadata": {},
   "outputs": [],
   "source": [
    "mean = colMeans(sdata[,init:end])"
   ]
  },
  {
   "cell_type": "code",
   "execution_count": null,
   "metadata": {},
   "outputs": [],
   "source": [
    "Sx<-cov(sdata[,init:end])"
   ]
  },
  {
   "cell_type": "code",
   "execution_count": null,
   "metadata": {},
   "outputs": [],
   "source": [
    "dist.data=mahalanobis(sdata[,init:end],mean,Sx)"
   ]
  },
  {
   "cell_type": "code",
   "execution_count": null,
   "metadata": {},
   "outputs": [],
   "source": [
    "dist.data = dist(t(sdata[,init:end]))"
   ]
  },
  {
   "cell_type": "code",
   "execution_count": null,
   "metadata": {},
   "outputs": [],
   "source": [
    "dend.data = as.dendrogram(hclust(dist.data))"
   ]
  },
  {
   "cell_type": "code",
   "execution_count": null,
   "metadata": {
    "scrolled": true
   },
   "outputs": [],
   "source": [
    "# Compute hierarchical clustering and cut into 4 clusters\n",
    "#acpta solo 4 clusters\n",
    "res <- hcut(dist.data, k = 4, stand = FALSE)\n",
    "# Visualize\n",
    "fviz_dend(res, rect = TRUE, cex = 0.4,\n",
    "          k_colors = c(\"#00AFBB\",\"#2E9FDF\", \"#E7B800\", \"#FC4E07\"))"
   ]
  },
  {
   "cell_type": "code",
   "execution_count": null,
   "metadata": {},
   "outputs": [],
   "source": [
    "my_data <- scale(dist.data)\n",
    "fviz_nbclust(my_data, kmeans, method = \"gap_stat\")"
   ]
  },
  {
   "cell_type": "markdown",
   "metadata": {},
   "source": [
    "# DPCA"
   ]
  },
  {
   "cell_type": "code",
   "execution_count": null,
   "metadata": {},
   "outputs": [],
   "source": [
    "roll_PCA <- function(x){\n",
    "  #oo <- prcomp(x, scale=FALSE)$sdev^2\n",
    "  oo<- prcomp(x)$rot\n",
    "  oo / sum(oo)\n",
    "  #sumaComulativa(oo)\n",
    "  }"
   ]
  },
  {
   "cell_type": "code",
   "execution_count": null,
   "metadata": {},
   "outputs": [],
   "source": [
    "optimo <- function(n,windows,data){\n",
    "    varianza <- sapply(seq_len(n - windows + 1), function (i) roll_PCA(data[i:(i + windows - 1),1:ncol(data)]))\n",
    "    varianza <- t(varianza)\n",
    "    suma <- sum(varianza[,1:2])/nrow(varianza)\n",
    "}"
   ]
  },
  {
   "cell_type": "code",
   "execution_count": null,
   "metadata": {},
   "outputs": [],
   "source": [
    "rows <- nrow(data)\n",
    "max<-sapply(seq_len(rows), function(i) optimo(rows,i,data))\n",
    "#max <-max(max)\n",
    "max"
   ]
  },
  {
   "cell_type": "code",
   "execution_count": null,
   "metadata": {},
   "outputs": [],
   "source": [
    "DPCA <- function(n,windows,data){\n",
    "    varianza <- sapply(seq_len(n - windows + 1), function (i) roll_PCA(data[i:(i + windows - 1),1:ncol(data)]))\n",
    "    varianza <- t(varianza)\n",
    "}"
   ]
  },
  {
   "cell_type": "code",
   "execution_count": null,
   "metadata": {},
   "outputs": [],
   "source": [
    "n <- nrow(data)\n",
    "windows<-8\n",
    "var.dpca <- DPCA(n,windows,data)"
   ]
  },
  {
   "cell_type": "code",
   "execution_count": null,
   "metadata": {},
   "outputs": [],
   "source": [
    "print(var.dpca)"
   ]
  },
  {
   "cell_type": "code",
   "execution_count": null,
   "metadata": {},
   "outputs": [],
   "source": [
    "matplot(var.dpca[,1:ncol(var.dpca)], type = \"l\", lty = 1, col = 1:ncol(var.dpca),\n",
    "        xlab = \"period\", ylab = \"proportional variance\")"
   ]
  },
  {
   "cell_type": "code",
   "execution_count": null,
   "metadata": {},
   "outputs": [],
   "source": [
    "com.df <- as.data.frame(oo)"
   ]
  },
  {
   "cell_type": "code",
   "execution_count": null,
   "metadata": {},
   "outputs": [],
   "source": []
  }
 ],
 "metadata": {
  "kernelspec": {
   "display_name": "R",
   "language": "R",
   "name": "ir"
  },
  "language_info": {
   "codemirror_mode": "r",
   "file_extension": ".r",
   "mimetype": "text/x-r-source",
   "name": "R",
   "pygments_lexer": "r",
   "version": "3.5.1"
  }
 },
 "nbformat": 4,
 "nbformat_minor": 2
}
