{
 "cells": [
  {
   "cell_type": "code",
   "execution_count": null,
   "metadata": {},
   "outputs": [],
   "source": [
    "from pandas import DataFrame\n",
    "from pandas import concat\n",
    "import pandas as pd\n",
    "import numpy as np\n",
    "import seaborn as sns\n",
    "import os,inspect\n",
    "import sys"
   ]
  },
  {
   "cell_type": "code",
   "execution_count": null,
   "metadata": {},
   "outputs": [],
   "source": [
    "path_file = os.path.dirname(os.path.abspath(inspect.getfile(inspect.currentframe())))\n",
    "path_file=os.path.join(path_file,'datos_reales')"
   ]
  },
  {
   "cell_type": "code",
   "execution_count": null,
   "metadata": {},
   "outputs": [],
   "source": [
    "#read file from csv or excel\n",
    "def readFile(file, sheet=None):\n",
    "    if file.endswith('.xlsx') or file.endswith('.xls'):\n",
    "        if sheet == None:\n",
    "            raise Exception('sheet name should be defined')\n",
    "        else:\n",
    "            return pd.read_excel(open(os.path.join(path_file,file), 'rb'), sheet_name=sheet)\n",
    "    elif file.endswith('.csv'):\n",
    "        return pd.read_csv(os.path.join(path_file,file))\n",
    "    else:\n",
    "        raise Exception('Types would be 0 or 1')"
   ]
  },
  {
   "cell_type": "code",
   "execution_count": null,
   "metadata": {},
   "outputs": [],
   "source": [
    "#ruta: ruta del origen xlsx\n",
    "#sheet_name: nombre de hoja\n",
    "def loadData(ruta, sheet_name):\n",
    "    data = readFile(ruta,sheet_name).iloc[:,0:2].set_index(\"year\")\n",
    "    return data"
   ]
  },
  {
   "cell_type": "code",
   "execution_count": null,
   "metadata": {},
   "outputs": [],
   "source": [
    "#data: dataFrame imput\n",
    "#n_in: cantidad de datos historicos para inferir un resultado\n",
    "#n_out: numero de resultados\n",
    "#dropnan: true borra las columnas vacias, else los considera\n",
    "def series_to_supervised(data, n_in=1, n_out=1, dropnan=False):\n",
    "    \"\"\"\n",
    "    Frame a time series as a supervised learning dataset.\n",
    "    Arguments:\n",
    "        data: Sequence of observations as a list or NumPy array.\n",
    "        n_in: Number of lag observations as input (X).\n",
    "        n_out: Number of observations as output (y).\n",
    "        dropnan: Boolean whether or not to drop rows with NaN values.\n",
    "    Returns:\n",
    "        Pandas DataFrame of series framed for supervised learning.\n",
    "    \"\"\"\n",
    "    n_vars = 1 if type(data) is list else data.shape[1]\n",
    "    df = DataFrame(data)\n",
    "    cols, names = list(), list()\n",
    "    # input sequence (t-n, ... t-1)\n",
    "    for i in range(n_in, 0, -1):\n",
    "        cols.append(df.shift(i))\n",
    "        names += [('var%d(t-%d)' % (j+1, i)) for j in range(n_vars)]\n",
    "    # forecast sequence (t, t+1, ... t+n)\n",
    "    for i in range(0, n_out):\n",
    "        cols.append(df.shift(-i))\n",
    "        if i == 0:\n",
    "            names += [('var%d(t)' % (j+1)) for j in range(n_vars)]\n",
    "        else:\n",
    "            names += [('var%d(t+%d)' % (j+1, i)) for j in range(n_vars)]\n",
    "    # put it all together\n",
    "    agg = concat(cols, axis=1)\n",
    "    agg.columns = names\n",
    "    # drop rows with NaN values\n",
    "    if dropnan:\n",
    "        agg.dropna(inplace=True)\n",
    "    return agg"
   ]
  },
  {
   "cell_type": "code",
   "execution_count": null,
   "metadata": {},
   "outputs": [],
   "source": [
    "#dataFrame:particiona funcion series_to_supervised()\n",
    "#n_train: pariciona el dataFrame para el training, el restante se considera validacion(\"test\")\n",
    "def splitData(dataFrame,n_train):\n",
    "    #numero de datos\n",
    "    longData = len(dataFrame.index)\n",
    "    x_train_años = (longData * n_train)//100\n",
    "    # split into train and test sets\n",
    "    train = dataFrame.values[:x_train_años, :]\n",
    "    test = dataFrame.values[x_train_años:, :]\n",
    "    # split into input and outputs\n",
    "    x_train, y_train = train[:, :-1], train[:, -1]\n",
    "    x_val, y_val = test[:, :-1], test[:, -1]\n",
    "    # reshape input to be 3D [samples, timesteps, features]\n",
    "    x_train = x_train.reshape((x_train.shape[0], x_train.shape[1],1))\n",
    "    x_val = x_val.reshape((x_val.shape[0], x_val.shape[1],1 ))\n",
    "    print(x_train.shape, y_train.shape, x_val.shape, y_val.shape)\n",
    "    return x_train, y_train, x_val, y_val"
   ]
  },
  {
   "cell_type": "code",
   "execution_count": null,
   "metadata": {},
   "outputs": [],
   "source": [
    "def data(fileName,sheet_name=\"hoja1\", n_in=4, n_out=1, n_train=72):\n",
    "    data=loadData(fileName, sheet_name)\n",
    "    dataFrame=series_to_supervised(data, n_in=1, n_out=1, dropnan=False)\n",
    "    return splitData(dataFrame,n_train)"
   ]
  },
  {
   "cell_type": "code",
   "execution_count": null,
   "metadata": {},
   "outputs": [],
   "source": [
    "#datos historicos\n",
    "n_in=4\n",
    "#datos predecidos\n",
    "n_out=1\n",
    "#porcentage de datos para el entrenamiento\n",
    "n_train=85\n",
    "x_train, y_train, x_val, y_val = data('union.xlsx', \"a\", n_in, n_out, n_train)"
   ]
  },
  {
   "cell_type": "code",
   "execution_count": null,
   "metadata": {},
   "outputs": [],
   "source": []
  }
 ],
 "metadata": {
  "kernelspec": {
   "display_name": "Python 3",
   "language": "python",
   "name": "python3"
  },
  "language_info": {
   "codemirror_mode": {
    "name": "ipython",
    "version": 3
   },
   "file_extension": ".py",
   "mimetype": "text/x-python",
   "name": "python",
   "nbconvert_exporter": "python",
   "pygments_lexer": "ipython3",
   "version": "3.6.6"
  }
 },
 "nbformat": 4,
 "nbformat_minor": 2
}
